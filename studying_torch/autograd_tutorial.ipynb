{
  "cells": [
    {
      "cell_type": "code",
      "execution_count": 1,
      "metadata": {
        "id": "iR28JZLtMK-_"
      },
      "outputs": [],
      "source": [
        "%matplotlib inline"
      ]
    },
    {
      "cell_type": "markdown",
      "metadata": {
        "id": "cmGFWSMHMK_B"
      },
      "source": [
        "\n",
        "``torch.autograd`` 에 대한 간단한 소개\n",
        "-------------------------------------------\n",
        "\n",
        "``torch.autograd`` 는 신경망 학습을 지원하는 PyTorch의 자동 미분 엔진입니다.\n",
        "이 단원에서는 autograd가 신경망 학습을 어떻게 돕는지에 대한 개념적 이해를 할 수\n",
        "있습니다.\n",
        "\n",
        "배경(Background)\n",
        "~~~~~~~~~~~~~~~~~~~\n",
        "신경망(NN; Neural Network)은 어떤 입력 데이터에 대해 실행되는 중첩(nested)된\n",
        "함수들의 모음(collection)입니다. 이 함수들은 PyTorch에서 Tensor로 저장되는,\n",
        "(가중치(weight)와 편향(bias)로 구성된) 매개변수들로 정의됩니다.\n",
        "\n",
        "신경망을 학습하는 것은 2단계로 이루어집니다:\n",
        "\n",
        "**순전파(Forward Propagation)**: 순전파 단계에서, 신경망은 정답을 맞추기 위해\n",
        "최선의 추측(best guess)을 합니다. 이렇게 추측을 하기 위해서 입력 데이터를 각\n",
        "함수들에서 실행합니다.\n",
        "\n",
        "**역전파(Backward Propagation)**: 역전파 단계에서, 신경망은 추측한 값에서 발생한\n",
        "오류(error)에 비례하여(proportionate) 매개변수들을 적절히 조절(adjust)합니다.\n",
        "출력(output)로부터 역방향으로 이동하면서 오류에 대한 함수들의 매개변수들의\n",
        "미분값( *변화도(gradient)* )을 수집하고, 경사하강법(gradient descent)을 사용하여\n",
        "매개변수들을 최적화 합니다. 역전파에 대한 자세한 설명은 `3Blue1Brown의 비디오\n",
        "<https://www.youtube.com/watch?v=tIeHLnjs5U8>`__ 를 참고하세요.\n",
        "\n",
        "\n",
        "PyTorch에서 사용법\n",
        "~~~~~~~~~~~~~~~~~~~~\n",
        "\n",
        "학습 단계를 하나만 살펴보겠습니다. 여기에서는 ``torchvision`` 에서 미리 학습된 resnet18 모델을 불러옵니다.\n",
        "3채널짜리 높이와 넓이가 64인 이미지 하나를 표현하는 무작위의 데이터 텐서를 생성하고, 이에 상응하는 ``label(정답)`` 을\n",
        "무작위 값으로 초기화합니다. 미리 학습된 모델의 정답(label)은 (1, 1000)의 모양(shape)을 갖습니다.\n",
        "\n",
        "<div class=\"alert alert-info\"><h4>Note</h4><p>이 튜토리얼은 (텐서를 CUDA로 이동하더라도) GPU에서는 동작하지 않으며 CPU에서만 동작합니다.</p></div>\n"
      ]
    },
    {
      "cell_type": "code",
      "execution_count": 2,
      "metadata": {
        "id": "t_0wCwW_MK_C"
      },
      "outputs": [],
      "source": [
        "import torch, torchvision\n",
        "model = torchvision.models.resnet18(pretrained=True)\n",
        "data = torch.rand(1, 3, 64, 64)\n",
        "labels = torch.rand(1, 1000)"
      ]
    },
    {
      "cell_type": "code",
      "source": [
        "data"
      ],
      "metadata": {
        "id": "YUz1keLyRIDG",
        "outputId": "8a292a3b-8a36-446b-f6ba-6cdb23e4f8cc",
        "colab": {
          "base_uri": "https://localhost:8080/"
        }
      },
      "execution_count": 3,
      "outputs": [
        {
          "output_type": "execute_result",
          "data": {
            "text/plain": [
              "tensor([[[[0.2544, 0.3433, 0.1435,  ..., 0.5723, 0.7297, 0.6775],\n",
              "          [0.4702, 0.7691, 0.4044,  ..., 0.3368, 0.4379, 0.4717],\n",
              "          [0.1549, 0.3339, 0.6835,  ..., 0.3359, 0.4275, 0.7979],\n",
              "          ...,\n",
              "          [0.4068, 0.8764, 0.8907,  ..., 0.5067, 0.8438, 0.0425],\n",
              "          [0.7840, 0.7890, 0.8697,  ..., 0.1566, 0.2446, 0.8816],\n",
              "          [0.7987, 0.0879, 0.4012,  ..., 0.6526, 0.6054, 0.5395]],\n",
              "\n",
              "         [[0.5818, 0.0993, 0.7690,  ..., 0.1330, 0.3519, 0.2704],\n",
              "          [0.4012, 0.8444, 0.1320,  ..., 0.3076, 0.4692, 0.7389],\n",
              "          [0.1375, 0.6275, 0.5750,  ..., 0.2408, 0.2018, 0.4003],\n",
              "          ...,\n",
              "          [0.4845, 0.9507, 0.2381,  ..., 0.6775, 0.2548, 0.8721],\n",
              "          [0.2414, 0.4080, 0.9190,  ..., 0.7825, 0.6532, 0.7196],\n",
              "          [0.4615, 0.4117, 0.7568,  ..., 0.1210, 0.2439, 0.0311]],\n",
              "\n",
              "         [[0.0275, 0.0720, 0.6133,  ..., 0.0236, 0.2455, 0.2437],\n",
              "          [0.8537, 0.6939, 0.0807,  ..., 0.5012, 0.0853, 0.2986],\n",
              "          [0.7796, 0.4947, 0.7796,  ..., 0.9167, 0.9589, 0.1707],\n",
              "          ...,\n",
              "          [0.1237, 0.0855, 0.2141,  ..., 0.0899, 0.7982, 0.4170],\n",
              "          [0.5689, 0.2139, 0.7010,  ..., 0.5586, 0.8970, 0.3683],\n",
              "          [0.5180, 0.0316, 0.0635,  ..., 0.4136, 0.0656, 0.5967]]]])"
            ]
          },
          "metadata": {},
          "execution_count": 3
        }
      ]
    },
    {
      "cell_type": "code",
      "source": [
        "data.shape"
      ],
      "metadata": {
        "id": "Fhe_wK3KRME_",
        "outputId": "b3483f21-a2c2-4a6f-b6d3-fd675d2e7359",
        "colab": {
          "base_uri": "https://localhost:8080/"
        }
      },
      "execution_count": 4,
      "outputs": [
        {
          "output_type": "execute_result",
          "data": {
            "text/plain": [
              "torch.Size([1, 3, 64, 64])"
            ]
          },
          "metadata": {},
          "execution_count": 4
        }
      ]
    },
    {
      "cell_type": "code",
      "source": [
        "labels.shape"
      ],
      "metadata": {
        "id": "vA6J7EV4RZTY",
        "outputId": "fc2144a7-9016-4ab2-de03-7e7a770ef5fb",
        "colab": {
          "base_uri": "https://localhost:8080/"
        }
      },
      "execution_count": 5,
      "outputs": [
        {
          "output_type": "execute_result",
          "data": {
            "text/plain": [
              "torch.Size([1, 1000])"
            ]
          },
          "metadata": {},
          "execution_count": 5
        }
      ]
    },
    {
      "cell_type": "markdown",
      "metadata": {
        "id": "tJzprFycMK_C"
      },
      "source": [
        "다음으로, 입력(input) 데이터를 모델의 각 층(layer)에 통과시켜 예측값(prediction)을 생성해보겠습니다.\n",
        "이것이 **순전파 단계** 입니다.\n",
        "\n",
        "\n"
      ]
    },
    {
      "cell_type": "code",
      "execution_count": 6,
      "metadata": {
        "id": "Xi1hbdHFMK_C"
      },
      "outputs": [],
      "source": [
        "prediction = model(data) # 순전파 단계(forward pass)"
      ]
    },
    {
      "cell_type": "markdown",
      "metadata": {
        "id": "SgXsakFqMK_D"
      },
      "source": [
        "모델의 예측값과 그에 해당하는 정답(label)을 사용하여 오차(error, ``손실(loss)`` )를 계산합니다.\n",
        "다음 단계는 신경망을 통해 이 에러를 역전파하는 것입니다.\n",
        "오차 텐서(error tensor)에 ``.backward()`` 를 호출하면 역전파가 시작됩니다.\n",
        "그 다음 Autograd가 매개변수(parameter)의 ``.grad`` 속성(attribute)에, 모델의\n",
        "각 매개변수에 대한 변화도(gradient)를 계산하고 저장합니다.\n",
        "\n",
        "\n"
      ]
    },
    {
      "cell_type": "code",
      "execution_count": 7,
      "metadata": {
        "id": "y6ruiKDYMK_D"
      },
      "outputs": [],
      "source": [
        "loss = (prediction - labels).sum()\n",
        "loss.backward()"
      ]
    },
    {
      "cell_type": "markdown",
      "metadata": {
        "id": "6x7TDMTVMK_D"
      },
      "source": [
        "다음으로, 옵티마이저(optimizer)를 불러옵니다.\n",
        "이 예제에서는 학습율(learning rate) 0.1과 `모멘텀(momentum) <https://towardsdatascience.com/stochastic-gradient-descent-with-momentum-a84097641a5d>`__\n",
        "0.9를 갖는 SGD입니다. 옵티마이저(optimizer)에 모델의 모든 매개변수를 등록합니다.\n",
        "\n",
        "\n"
      ]
    },
    {
      "cell_type": "code",
      "execution_count": 8,
      "metadata": {
        "id": "JhI_a8ObMK_E"
      },
      "outputs": [],
      "source": [
        "optim = torch.optim.SGD(model.parameters(), lr=1e-2, momentum=0.9)"
      ]
    },
    {
      "cell_type": "markdown",
      "metadata": {
        "id": "brkY_2hDMK_E"
      },
      "source": [
        "마지막으로 ``.step`` 을 호출하여 경사하강법(gradient descent)을 시작합니다.\n",
        "옵티마이저는 ``.grad`` 에 저장된 변화도에 따라 각 매개변수를 조정(adjust)합니다.\n",
        "\n",
        "\n"
      ]
    },
    {
      "cell_type": "code",
      "execution_count": 9,
      "metadata": {
        "id": "MDN9koGLMK_E"
      },
      "outputs": [],
      "source": [
        "optim.step() # 경사하강법(gradient descent)"
      ]
    },
    {
      "cell_type": "markdown",
      "metadata": {
        "id": "3tXHeSfHMK_E"
      },
      "source": [
        "지금까지 신경망 학습에 필요한 모든 것을 알아보았습니다.\n",
        "아래는 autograd의 동작에 대한 세부적인 내용을 설명하므로, 건너뛰어도 됩니다.\n",
        "\n",
        "\n"
      ]
    },
    {
      "cell_type": "markdown",
      "metadata": {
        "id": "IEYn-dwnMK_E"
      },
      "source": [
        "--------------\n",
        "\n",
        "\n"
      ]
    },
    {
      "cell_type": "markdown",
      "metadata": {
        "id": "qWfA9QjqMK_F"
      },
      "source": [
        "Autograd에서 미분(differentiation)\n",
        "~~~~~~~~~~~~~~~~~~~~~~~~~~~~~~~~~~~~\n",
        "``autograd`` 가 어떻게 변화도(gradient)를 수집하는지 살펴보겠습니다.\n",
        "``requires_grad=True`` 를 갖는 2개의 텐서(tensor) ``a`` 와 ``b`` 를 만듭니다.\n",
        "``requires_grad=True`` 는 ``autograd`` 에 모든 연산(operation)들을 추적해야 한다고 알려줍니다.\n",
        "\n",
        "\n"
      ]
    },
    {
      "cell_type": "code",
      "execution_count": 10,
      "metadata": {
        "id": "IWLRD6sFMK_F"
      },
      "outputs": [],
      "source": [
        "import torch\n",
        "\n",
        "a = torch.tensor([2., 3.], requires_grad=True)\n",
        "b = torch.tensor([6., 4.], requires_grad=True)"
      ]
    },
    {
      "cell_type": "markdown",
      "metadata": {
        "id": "qyT_0OGpMK_F"
      },
      "source": [
        "이제 ``a`` 와 ``b`` 로부터 새로운 텐서 ``Q`` 를 만듭니다\n",
        "We create another tensor ``Q`` from ``a`` and ``b``.\n",
        "\n",
        "\\begin{align}Q = 3a^3 - b^2\\end{align}\n",
        "\n"
      ]
    },
    {
      "cell_type": "code",
      "execution_count": 11,
      "metadata": {
        "id": "pIiubP0mMK_F"
      },
      "outputs": [],
      "source": [
        "Q = 3*a**3 - b**2"
      ]
    },
    {
      "cell_type": "code",
      "source": [
        "Q.grad"
      ],
      "metadata": {
        "id": "mFwZ1Sm0x7SS",
        "outputId": "f307ce47-7fc9-43d4-de41-694926e8ff1b",
        "colab": {
          "base_uri": "https://localhost:8080/"
        }
      },
      "execution_count": 79,
      "outputs": [
        {
          "output_type": "stream",
          "name": "stderr",
          "text": [
            "/usr/local/lib/python3.7/dist-packages/torch/_tensor.py:1104: UserWarning: The .grad attribute of a Tensor that is not a leaf Tensor is being accessed. Its .grad attribute won't be populated during autograd.backward(). If you indeed want the .grad field to be populated for a non-leaf Tensor, use .retain_grad() on the non-leaf Tensor. If you access the non-leaf Tensor by mistake, make sure you access the leaf Tensor instead. See github.com/pytorch/pytorch/pull/30531 for more informations. (Triggered internally at  aten/src/ATen/core/TensorBody.h:475.)\n",
            "  return self._grad\n"
          ]
        }
      ]
    },
    {
      "cell_type": "markdown",
      "metadata": {
        "id": "5_-pF_lhMK_F"
      },
      "source": [
        "이제 ``a`` 와 ``b`` 가 모두 신경망(NN)의 매개변수이고, ``Q`` 가\n",
        "오차(error)라고 가정해보겠습니다. 신경망을 학습할 때, 아래와 같이\n",
        "매개변수들에 대한 오차의 변화도(gradient)를 구해야 합니다. 즉,\n",
        "\n",
        "\\begin{align}\\frac{\\partial Q}{\\partial a} = 9a^2\\end{align}\n",
        "\n",
        "\\begin{align}\\frac{\\partial Q}{\\partial b} = -2b\\end{align}\n",
        "\n",
        "\n",
        "``Q`` 에 대해서 ``.backward()`` 를 호출할 때, autograd는 이러한 변화도들을 계산하고\n",
        "이를 각 텐서의 ``.grad`` 속성(attribute)에 저장합니다.\n",
        "\n",
        "``Q`` 는 벡터(vector)이므로 ``Q.backward()`` 에 ``gradient`` 인자(argument)를 명시적으로\n",
        "전달해야 합니다. ``gradient`` 는 ``Q`` 와 같은 모양(shape)의 텐서로, ``Q`` 자기 자신에 대한\n",
        "변화도(gradient)를 나타냅니다. 즉\n",
        "\n",
        "\\begin{align}\\frac{dQ}{dQ} = 1\\end{align}\n",
        "\n",
        "동일하게, ``Q.sum().backward()`` 와 같이 ``Q`` 를 스칼라(scalar) 값으로 집계(aggregate)한 뒤 암시적으로\n",
        "``.backward()`` 를 호출할 수도 있습니다.\n",
        "\n",
        "\n"
      ]
    },
    {
      "cell_type": "code",
      "execution_count": 12,
      "metadata": {
        "id": "OHfzeJ80MK_G"
      },
      "outputs": [],
      "source": [
        "external_grad = torch.tensor([1., 1.])\n",
        "Q.backward(gradient=external_grad)"
      ]
    },
    {
      "cell_type": "code",
      "source": [
        "b.grad"
      ],
      "metadata": {
        "id": "4ID8u_JMaQl5",
        "outputId": "b05dc638-ba77-434e-b5d1-0bf2777f25e8",
        "colab": {
          "base_uri": "https://localhost:8080/"
        }
      },
      "execution_count": 126,
      "outputs": [
        {
          "output_type": "stream",
          "name": "stderr",
          "text": [
            "/usr/local/lib/python3.7/dist-packages/torch/_tensor.py:1104: UserWarning: The .grad attribute of a Tensor that is not a leaf Tensor is being accessed. Its .grad attribute won't be populated during autograd.backward(). If you indeed want the .grad field to be populated for a non-leaf Tensor, use .retain_grad() on the non-leaf Tensor. If you access the non-leaf Tensor by mistake, make sure you access the leaf Tensor instead. See github.com/pytorch/pytorch/pull/30531 for more informations. (Triggered internally at  aten/src/ATen/core/TensorBody.h:475.)\n",
            "  return self._grad\n"
          ]
        }
      ]
    },
    {
      "cell_type": "markdown",
      "metadata": {
        "id": "QUFpikzHMK_G"
      },
      "source": [
        "이제 변화도는 ``a.grad`` 와 ``b.grad`` 에 저장됩니다.\n",
        "\n"
      ]
    },
    {
      "cell_type": "code",
      "execution_count": 13,
      "metadata": {
        "id": "zcWYxzwLMK_G",
        "outputId": "ef1e4f82-b8af-4b46-bec2-5e16f2856330",
        "colab": {
          "base_uri": "https://localhost:8080/"
        }
      },
      "outputs": [
        {
          "output_type": "stream",
          "name": "stdout",
          "text": [
            "tensor([True, True])\n",
            "tensor([True, True])\n"
          ]
        }
      ],
      "source": [
        "# 수집된 변화도가 올바른지 확인합니다.\n",
        "print(9*a**2 == a.grad)\n",
        "print(-2*b == b.grad)"
      ]
    },
    {
      "cell_type": "markdown",
      "metadata": {
        "id": "quBO7D97MK_G"
      },
      "source": [
        "선택적으로 읽기(Optional Reading) - ``autograd`` 를 사용한 벡터 미적분(calculus)\n",
        "^^^^^^^^^^^^^^^^^^^^^^^^^^^^^^^^^^^^^^^^^^^^^^^^^^^^^^^^^^^^^^^^^^^^^^^^^^^^^^^^^^\n",
        "\n",
        "수학적으로, 벡터 함수 $\\vec{y}=f(\\vec{x})$ 에서 $\\vec{x}$ 에\n",
        "대한 $\\vec{y}$ 의 변화도는 야코비안 행렬(Jacobian Matrix) $J$: 입니다:\n",
        "\n",
        "\\begin{align}J\n",
        "     =\n",
        "      \\left(\\begin{array}{cc}\n",
        "      \\frac{\\partial \\bf{y}}{\\partial x_{1}} &\n",
        "      ... &\n",
        "      \\frac{\\partial \\bf{y}}{\\partial x_{n}}\n",
        "      \\end{array}\\right)\n",
        "     =\n",
        "     \\left(\\begin{array}{ccc}\n",
        "      \\frac{\\partial y_{1}}{\\partial x_{1}} & \\cdots & \\frac{\\partial y_{1}}{\\partial x_{n}}\\\\\n",
        "      \\vdots & \\ddots & \\vdots\\\\\n",
        "      \\frac{\\partial y_{m}}{\\partial x_{1}} & \\cdots & \\frac{\\partial y_{m}}{\\partial x_{n}}\n",
        "      \\end{array}\\right)\\end{align}\n",
        "\n",
        "일반적으로, ``torch.autograd`` 는 벡터-야코비안 곱을 계산하는 엔진입니다. 이는, 주어진\n",
        "어떤 벡터 $\\vec{v}$ 에 대해 $J^{T}\\cdot \\vec{v}$ 을 연산합니다.\n",
        "\n",
        "만약 $\\vec{v}$ 가 스칼라 함수 $l=g\\left(\\vec{y}\\right)$ 의 변화도(gradient)인 경우:\n",
        "\n",
        "\\begin{align}\\vec{v}\n",
        "   =\n",
        "   \\left(\\begin{array}{ccc}\\frac{\\partial l}{\\partial y_{1}} & \\cdots & \\frac{\\partial l}{\\partial y_{m}}\\end{array}\\right)^{T}\\end{align}\n",
        "\n",
        "이며, 연쇄 법칙(chain rule)에 따라, 벡터-야코비안 곱은 $\\vec{x}$ 에 대한\n",
        "$l$ 의 변화도(gradient)가 됩니다:\n",
        "\n",
        "\\begin{align}J^{T}\\cdot \\vec{v}=\\left(\\begin{array}{ccc}\n",
        "      \\frac{\\partial y_{1}}{\\partial x_{1}} & \\cdots & \\frac{\\partial y_{m}}{\\partial x_{1}}\\\\\n",
        "      \\vdots & \\ddots & \\vdots\\\\\n",
        "      \\frac{\\partial y_{1}}{\\partial x_{n}} & \\cdots & \\frac{\\partial y_{m}}{\\partial x_{n}}\n",
        "      \\end{array}\\right)\\left(\\begin{array}{c}\n",
        "      \\frac{\\partial l}{\\partial y_{1}}\\\\\n",
        "      \\vdots\\\\\n",
        "      \\frac{\\partial l}{\\partial y_{m}}\n",
        "      \\end{array}\\right)=\\left(\\begin{array}{c}\n",
        "      \\frac{\\partial l}{\\partial x_{1}}\\\\\n",
        "      \\vdots\\\\\n",
        "      \\frac{\\partial l}{\\partial x_{n}}\n",
        "      \\end{array}\\right)\\end{align}\n",
        "\n",
        "위 예제에서 벡터-야코비안 곱의 이러한 특성을 사용했습니다;\n",
        "``external_grad`` 가 $\\vec{v}$ 를 뜻합니다.\n",
        "\n",
        "\n"
      ]
    },
    {
      "cell_type": "markdown",
      "metadata": {
        "id": "T4xuJ5F3MK_G"
      },
      "source": [
        "연산 그래프(Computational Graph)\n",
        "~~~~~~~~~~~~~~~~~~~~~~~~~~~~~~~~~~~\n",
        "\n",
        "개념적으로, autograd는 데이터(텐서)의 및 실행된 모든 연산들(및 연산 결과가 새로운 텐서인 경우도 포함하여)의\n",
        "기록을 `Function <https://pytorch.org/docs/stable/autograd.html#torch.autograd.Function>`__ 객체로\n",
        "구성된 방향성 비순환 그래프(DAG; Directed Acyclic Graph)에 저장(keep)합니다.\n",
        "이 방향성 비순환 그래프(DAG)의 잎(leave)은 입력 텐서이고, 뿌리(root)는 결과 텐서입니다.\n",
        "이 그래프를 뿌리에서부터 잎까지 추적하면 연쇄 법칙(chain rule)에 따라 변화도를 자동으로 계산할 수 있습니다.\n",
        "\n",
        "순전파 단계에서, autograd는 다음 두 가지 작업을 동시에 수행합니다:\n",
        "\n",
        "- 요청된 연산을 수행하여 결과 텐서를 계산하고,\n",
        "- DAG에 연산의 *변화도 기능(gradient function)* 를 유지(maintain)합니다.\n",
        "\n",
        "역전파 단계는 DAG 뿌리(root)에서 ``.backward()`` 가 호출될 때 시작됩니다. ``autograd`` 는 이 때:\n",
        "\n",
        "- 각 ``.grad_fn`` 으로부터 변화도를 계산하고,\n",
        "- 각 텐서의 ``.grad`` 속성에 계산 결과를 쌓고(accumulate),\n",
        "- 연쇄 법칙을 사용하여, 모든 잎(leaf) 텐서들까지 전파(propagate)합니다.\n",
        "\n",
        "다음은 지금까지 살펴본 예제의 DAG를 시각적으로 표현한 것입니다. 그래프에서 화살표는 순전파 단계의 방향을 나타냅니다.\n",
        "노드(node)들은 순전파 단계에서의 각 연산들에 대한 역전파 함수들을 나타냅니다. 파란색 잎(leaf) 노드는 잎 텐서 ``a`` 와 ``b`` 를 나타냅니다.\n",
        "\n",
        ".. figure:: /_static/img/dag_autograd.png\n",
        "\n",
        "<div class=\"alert alert-info\"><h4>Note</h4><p>**PyTorch에서 DAG들은 동적(dynamic)입니다.**\n",
        "  주목해야 할 중요한 점은 그래프가 처음부터(from scratch) 다시 생성된다는 것입니다; 매번 ``.backward()`` 가\n",
        "  호출되고 나면, autograd는 새로운 그래프를 채우기(populate) 시작합니다. 이러한 점 덕분에 모델에서\n",
        "  흐름 제어(control flow) 구문들을 사용할 수 있게 되는 것입니다; 매번 반복(iteration)할 때마다 필요하면\n",
        "  모양(shape)이나 크기(size), 연산(operation)을 바꿀 수 있습니다.</p></div>\n",
        "\n",
        "DAG에서 제외하기\n",
        "^^^^^^^^^^^^^^^^^^^^^^\n",
        "\n",
        "``torch.autograd`` 는 ``requires_grad`` 플래그(flag)가 ``True`` 로 설정된 모든 텐서에 대한\n",
        "연산들을 추적합니다. 따라서 변화도가 필요하지 않은 텐서들에 대해서는 이 속성을 ``False`` 로 설정하여\n",
        "DAG 변화도 계산에서 제외합니다.\n",
        "\n",
        "입력 텐서 중 단 하나라도 ``requres_grad=True`` 를 갖는 경우, 연산의 결과 텐서도 변화도를 갖게 됩니다.\n",
        "\n",
        "\n"
      ]
    },
    {
      "cell_type": "code",
      "execution_count": 14,
      "metadata": {
        "id": "lrLIDQVhMK_G",
        "outputId": "faf75f84-fee5-4782-c5f6-8ce137fc9c27",
        "colab": {
          "base_uri": "https://localhost:8080/"
        }
      },
      "outputs": [
        {
          "output_type": "stream",
          "name": "stdout",
          "text": [
            "Does `a` require gradients? : False\n",
            "Does `b` require gradients?: True\n"
          ]
        }
      ],
      "source": [
        "x = torch.rand(5, 5)\n",
        "y = torch.rand(5, 5)\n",
        "z = torch.rand((5, 5), requires_grad=True)\n",
        "\n",
        "a = x + y\n",
        "print(f\"Does `a` require gradients? : {a.requires_grad}\")\n",
        "b = x + z\n",
        "print(f\"Does `b` require gradients?: {b.requires_grad}\")"
      ]
    },
    {
      "cell_type": "markdown",
      "metadata": {
        "id": "mJNZa9S6MK_G"
      },
      "source": [
        "신경망에서, 변화도를 계산하지 않는 매개변수를 일반적으로 **고정된 매개변수(frozen parameter)** 이라고 부릅니다.\n",
        "이러한 매개변수의 변화도가 필요하지 않다는 것을 미리 알고 있으면, 신경망 모델의 일부를 \"고정(freeze)\"하는 것이 유용합니다.\n",
        "(이렇게 하면 autograd 연산량을 줄임으로써 성능 상의 이득을 제공합니다.)\n",
        "\n",
        "DAG에서 제외하는 것이 중요한 또 다른 일반적인 사례(usecase)는\n",
        "`미리 학습된 모델을 미세조정 <https://tutorials.pytorch.kr/beginner/finetuning_torchvision_models_tutorial.html>`__\n",
        "하는 경우입니다.\n",
        "\n",
        "미세조정(finetuning)을 하는 과정에서, 새로운 정답(label)을 예측할 수 있도록 모델의 대부분을 고정한 뒤 일반적으로 분류 계층(classifier layer)만 변경합니다.\n",
        "이를 설명하기 위해 간단한 예제를 살펴보겠습니다. 이전과 마찬가지로 이미 학습된 resnet18 모델을 불러온 뒤 모든 매개변수를 고정합니다.\n",
        "\n"
      ]
    },
    {
      "cell_type": "code",
      "execution_count": 15,
      "metadata": {
        "id": "jrzJfI-2MK_H"
      },
      "outputs": [],
      "source": [
        "from torch import nn, optim\n",
        "\n",
        "model = torchvision.models.resnet18(pretrained=True)\n",
        "\n",
        "# 신경망의 모든 매개변수를 고정합니다\n",
        "for param in model.parameters():\n",
        "    param.requires_grad = False"
      ]
    },
    {
      "cell_type": "markdown",
      "metadata": {
        "id": "X0POHVMXMK_H"
      },
      "source": [
        "10개의 정답(label)을 갖는 새로운 데이터셋으로 모델을 미세조정하는 상황을 가정해보겠습니다.\n",
        "resnet에서 분류기(classifier)는 마지막 선형 계층(linear layer)인 ``model.fc`` 입니다.\n",
        "이를 새로운 분류기로 동작할 (고정되지 않은) 새로운 선형 계층으로 간단히 대체하겠습니다.\n",
        "\n"
      ]
    },
    {
      "cell_type": "code",
      "execution_count": 16,
      "metadata": {
        "id": "IoQ6F6S3MK_H"
      },
      "outputs": [],
      "source": [
        "model.fc = nn.Linear(512, 10)"
      ]
    },
    {
      "cell_type": "markdown",
      "metadata": {
        "id": "0y8jof2NMK_H"
      },
      "source": [
        "이제 ``model.fc`` 를 제외한 모델의 모든 매개변수들이 고정되었습니다.\n",
        "변화도를 계산하는 유일한 매개변수는 ``model.fc`` 의 가중치(weight)와 편향(bias)뿐입니다.\n",
        "\n"
      ]
    },
    {
      "cell_type": "code",
      "execution_count": 17,
      "metadata": {
        "id": "aRNnfZQRMK_H"
      },
      "outputs": [],
      "source": [
        "# 분류기만 최적화합니다.\n",
        "optimizer = optim.SGD(model.parameters(), lr=1e-2, momentum=0.9)"
      ]
    },
    {
      "cell_type": "markdown",
      "metadata": {
        "id": "sN7_wrOSMK_H"
      },
      "source": [
        "옵티마이저(optimizer)에 모든 매개변수를 등록하더라도,\n",
        "변화도를 계산(하고 경사하강법으로 갱신)할 수 있는 매개변수들은 분류기의 가중치와 편향뿐입니다.\n",
        "\n",
        "컨텍스트 매니저(context manager)에 `torch.no_grad() <https://pytorch.org/docs/stable/generated/torch.no_grad.html>`__\n",
        "로도 똑같이 제외하는 기능을 사용할 수 있습니다.\n",
        "\n",
        "\n"
      ]
    },
    {
      "cell_type": "markdown",
      "metadata": {
        "id": "BmgSS0bHMK_H"
      },
      "source": [
        "--------------\n",
        "\n",
        "\n"
      ]
    },
    {
      "cell_type": "markdown",
      "metadata": {
        "id": "5l5wBu9MMK_H"
      },
      "source": [
        "더 읽어보기:\n",
        "~~~~~~~~~~~~~~~~~~~\n",
        "\n",
        "-  `In-place operations & Multithreaded Autograd <https://pytorch.org/docs/stable/notes/autograd.html>`__\n",
        "-  `Example implementation of reverse-mode autodiff <https://colab.research.google.com/drive/1VpeE6UvEPRz9HmsHh1KS0XxXjYu533EC>`__\n",
        "\n"
      ]
    },
    {
      "cell_type": "markdown",
      "source": [
        "### so"
      ],
      "metadata": {
        "id": "1HVHhxgbR3eS"
      }
    },
    {
      "cell_type": "code",
      "source": [
        "temp = torch.randint(0, 5, (2, 3))\n",
        "temp\n"
      ],
      "metadata": {
        "id": "wJTrP0V8mPMR",
        "outputId": "d18091c7-3871-41d9-ff01-09ad129965ff",
        "colab": {
          "base_uri": "https://localhost:8080/"
        }
      },
      "execution_count": 68,
      "outputs": [
        {
          "output_type": "execute_result",
          "data": {
            "text/plain": [
              "tensor([[2, 0, 4],\n",
              "        [1, 2, 1]])"
            ]
          },
          "metadata": {},
          "execution_count": 68
        }
      ]
    },
    {
      "cell_type": "code",
      "source": [
        "temp * temp"
      ],
      "metadata": {
        "id": "IwluVtoHmXAT",
        "outputId": "37192cb1-5700-4285-bd2e-cc5a54910277",
        "colab": {
          "base_uri": "https://localhost:8080/"
        }
      },
      "execution_count": 69,
      "outputs": [
        {
          "output_type": "execute_result",
          "data": {
            "text/plain": [
              "tensor([[ 4,  0, 16],\n",
              "        [ 1,  4,  1]])"
            ]
          },
          "metadata": {},
          "execution_count": 69
        }
      ]
    },
    {
      "cell_type": "code",
      "source": [
        "hi = torch.Tensor()\n",
        "hi"
      ],
      "metadata": {
        "id": "KIDPztLbpTzZ",
        "outputId": "48835bab-0c29-4e37-b5e4-1822014e2b49",
        "colab": {
          "base_uri": "https://localhost:8080/"
        }
      },
      "execution_count": 51,
      "outputs": [
        {
          "output_type": "execute_result",
          "data": {
            "text/plain": [
              "tensor([])"
            ]
          },
          "metadata": {},
          "execution_count": 51
        }
      ]
    },
    {
      "cell_type": "code",
      "source": [
        "hi2 = torch.tensor()\n",
        "hi2"
      ],
      "metadata": {
        "id": "UDMd_P1Wpb2b",
        "outputId": "75cf7a6a-1e5a-4be8-8ce1-10474d27a1c5",
        "colab": {
          "base_uri": "https://localhost:8080/",
          "height": 187
        }
      },
      "execution_count": 54,
      "outputs": [
        {
          "output_type": "error",
          "ename": "TypeError",
          "evalue": "ignored",
          "traceback": [
            "\u001b[0;31m---------------------------------------------------------------------------\u001b[0m",
            "\u001b[0;31mTypeError\u001b[0m                                 Traceback (most recent call last)",
            "\u001b[0;32m<ipython-input-54-006695252f61>\u001b[0m in \u001b[0;36m<module>\u001b[0;34m()\u001b[0m\n\u001b[0;32m----> 1\u001b[0;31m \u001b[0mhi2\u001b[0m \u001b[0;34m=\u001b[0m \u001b[0mtorch\u001b[0m\u001b[0;34m.\u001b[0m\u001b[0mtensor\u001b[0m\u001b[0;34m(\u001b[0m\u001b[0;34m)\u001b[0m\u001b[0;34m\u001b[0m\u001b[0;34m\u001b[0m\u001b[0m\n\u001b[0m\u001b[1;32m      2\u001b[0m \u001b[0mhi2\u001b[0m\u001b[0;34m\u001b[0m\u001b[0;34m\u001b[0m\u001b[0m\n",
            "\u001b[0;31mTypeError\u001b[0m: tensor() missing 1 required positional arguments: \"data\""
          ]
        }
      ]
    },
    {
      "cell_type": "code",
      "source": [
        "torch.mul(temp, 2)"
      ],
      "metadata": {
        "id": "VI3XqPremvO3",
        "outputId": "8553dd3a-4503-45c0-c825-a3f05b22d74e",
        "colab": {
          "base_uri": "https://localhost:8080/"
        }
      },
      "execution_count": 70,
      "outputs": [
        {
          "output_type": "execute_result",
          "data": {
            "text/plain": [
              "tensor([[4, 0, 8],\n",
              "        [2, 4, 2]])"
            ]
          },
          "metadata": {},
          "execution_count": 70
        }
      ]
    },
    {
      "cell_type": "code",
      "source": [
        "temp @ temp.T"
      ],
      "metadata": {
        "id": "eovLIlbnnQ3x",
        "outputId": "cb0c1762-fd9f-4e71-c24e-4531f8620455",
        "colab": {
          "base_uri": "https://localhost:8080/"
        }
      },
      "execution_count": 76,
      "outputs": [
        {
          "output_type": "execute_result",
          "data": {
            "text/plain": [
              "tensor([[20,  6],\n",
              "        [ 6,  6]])"
            ]
          },
          "metadata": {},
          "execution_count": 76
        }
      ]
    },
    {
      "cell_type": "code",
      "source": [
        "temp"
      ],
      "metadata": {
        "id": "dzJ0DQCvnYXr",
        "outputId": "dccd882e-b364-4a79-993c-32bd36e2c76f",
        "colab": {
          "base_uri": "https://localhost:8080/"
        }
      },
      "execution_count": 77,
      "outputs": [
        {
          "output_type": "execute_result",
          "data": {
            "text/plain": [
              "tensor([[2, 0, 4],\n",
              "        [1, 2, 1]])"
            ]
          },
          "metadata": {},
          "execution_count": 77
        }
      ]
    },
    {
      "cell_type": "code",
      "source": [
        "torch.Tensor(2,3,2)"
      ],
      "metadata": {
        "id": "TJSvNWVTpQDl",
        "outputId": "f0cede7a-fa3e-404e-8a14-31c581139b5e",
        "colab": {
          "base_uri": "https://localhost:8080/"
        }
      },
      "execution_count": 58,
      "outputs": [
        {
          "output_type": "execute_result",
          "data": {
            "text/plain": [
              "tensor([[[2.1004e-36, 0.0000e+00],\n",
              "         [3.3631e-44, 0.0000e+00],\n",
              "         [       nan, 6.4460e-44]],\n",
              "\n",
              "        [[4.4721e+21, 2.8799e+32],\n",
              "         [1.3816e+31, 1.9203e+31],\n",
              "         [9.5835e+26, 4.1984e+12]]])"
            ]
          },
          "metadata": {},
          "execution_count": 58
        }
      ]
    },
    {
      "cell_type": "code",
      "source": [
        "torch.empty(2, 3, 2)"
      ],
      "metadata": {
        "id": "an2ClrAuti0r",
        "outputId": "79e91288-7e16-4fa9-b13b-cfb729f2011a",
        "colab": {
          "base_uri": "https://localhost:8080/"
        }
      },
      "execution_count": 59,
      "outputs": [
        {
          "output_type": "execute_result",
          "data": {
            "text/plain": [
              "tensor([[[2.1003e-36, 0.0000e+00],\n",
              "         [2.3694e-38, 6.9141e-06],\n",
              "         [0.0000e+00, 7.3612e-06]],\n",
              "\n",
              "        [[-0.0000e+00, 9.5322e+02],\n",
              "         [0.0000e+00, 2.2067e+04],\n",
              "         [1.4013e-45, 0.0000e+00]]])"
            ]
          },
          "metadata": {},
          "execution_count": 59
        }
      ]
    },
    {
      "cell_type": "code",
      "source": [
        "x = torch.randint(1, 2, (2, 3))\n",
        "x1 = x * 2\n",
        "x2 = x.mul(2)\n",
        "\n",
        "x3 = torch.randint(1, 2, (2, 3))\n",
        "x3 = torch.mul(x, 2, out=x3)"
      ],
      "metadata": {
        "id": "aCyxOMBsttW-"
      },
      "execution_count": 62,
      "outputs": []
    },
    {
      "cell_type": "markdown",
      "source": [
        "# autograd\n",
        "https://gaussian37.github.io/dl-pytorch-gradient/\n"
      ],
      "metadata": {
        "id": "lbHPL3G0SQZn"
      }
    },
    {
      "cell_type": "code",
      "source": [
        "x1 = torch.ones(2, 2, requires_grad=True)\n",
        "x2 = torch.ones(2, 2)"
      ],
      "metadata": {
        "id": "f27n6v5Cu-M7"
      },
      "execution_count": 95,
      "outputs": []
    },
    {
      "cell_type": "code",
      "source": [
        "y1 = x1 + 2\n",
        "print(y1)   # <AddBackward0> -> 더해주는 연산이 있었다는 뜻"
      ],
      "metadata": {
        "id": "d7E50bP1SJHZ",
        "outputId": "175f52bf-bed4-46b1-b3d7-68b29b649f87",
        "colab": {
          "base_uri": "https://localhost:8080/"
        }
      },
      "execution_count": 96,
      "outputs": [
        {
          "output_type": "stream",
          "name": "stdout",
          "text": [
            "tensor([[3., 3.],\n",
            "        [3., 3.]], grad_fn=<AddBackward0>)\n"
          ]
        }
      ]
    },
    {
      "cell_type": "code",
      "source": [
        "y2 = x2 + 2\n",
        "print(y2)"
      ],
      "metadata": {
        "id": "kwlZHwmDShXD",
        "outputId": "59b584af-f327-4d3d-e5e0-3df9c8fcdd39",
        "colab": {
          "base_uri": "https://localhost:8080/"
        }
      },
      "execution_count": 97,
      "outputs": [
        {
          "output_type": "stream",
          "name": "stdout",
          "text": [
            "tensor([[3., 3.],\n",
            "        [3., 3.]])\n"
          ]
        }
      ]
    },
    {
      "cell_type": "code",
      "source": [
        "y1 = y1 - 2 \n",
        "y1"
      ],
      "metadata": {
        "id": "bfyLWnA0Si-z",
        "outputId": "7db34596-07a0-4a18-a88b-d4b255c94d8a",
        "colab": {
          "base_uri": "https://localhost:8080/"
        }
      },
      "execution_count": 107,
      "outputs": [
        {
          "output_type": "execute_result",
          "data": {
            "text/plain": [
              "tensor([[-1., -1.],\n",
              "        [-1., -1.]], grad_fn=<SubBackward0>)"
            ]
          },
          "metadata": {},
          "execution_count": 107
        }
      ]
    },
    {
      "cell_type": "code",
      "source": [
        "y1 = y1 * -2\n",
        "y1"
      ],
      "metadata": {
        "id": "UzV1OHWjSlkx",
        "outputId": "f11fd760-cf4d-467b-9e9b-c30a883c5c90",
        "colab": {
          "base_uri": "https://localhost:8080/"
        }
      },
      "execution_count": 108,
      "outputs": [
        {
          "output_type": "execute_result",
          "data": {
            "text/plain": [
              "tensor([[2., 2.],\n",
              "        [2., 2.]], grad_fn=<MulBackward0>)"
            ]
          },
          "metadata": {},
          "execution_count": 108
        }
      ]
    },
    {
      "cell_type": "code",
      "source": [
        "y1 = y1 / 2\n",
        "y1"
      ],
      "metadata": {
        "id": "4acrM2pRU8Zj",
        "outputId": "f31b910f-dbe8-43e7-aa22-6e51af02b2af",
        "colab": {
          "base_uri": "https://localhost:8080/"
        }
      },
      "execution_count": 109,
      "outputs": [
        {
          "output_type": "execute_result",
          "data": {
            "text/plain": [
              "tensor([[1., 1.],\n",
              "        [1., 1.]], grad_fn=<DivBackward0>)"
            ]
          },
          "metadata": {},
          "execution_count": 109
        }
      ]
    },
    {
      "cell_type": "code",
      "source": [
        "y1.grad_fn"
      ],
      "metadata": {
        "id": "8bcxCJSeU-TL",
        "outputId": "e5c60b27-178e-465a-89b3-f6110b53eb7f",
        "colab": {
          "base_uri": "https://localhost:8080/"
        }
      },
      "execution_count": 110,
      "outputs": [
        {
          "output_type": "execute_result",
          "data": {
            "text/plain": [
              "<DivBackward0 at 0x7fad51725d50>"
            ]
          },
          "metadata": {},
          "execution_count": 110
        }
      ]
    },
    {
      "cell_type": "code",
      "source": [
        "# derivative 기본예제"
      ],
      "metadata": {
        "id": "Q5wzlHFPVFpT"
      },
      "execution_count": 111,
      "outputs": []
    },
    {
      "cell_type": "code",
      "source": [
        "x = torch.tensor(2.0, requires_grad=True)\n",
        "x"
      ],
      "metadata": {
        "id": "XpWLx_qgVupk",
        "outputId": "ed8343f6-d3cd-4f4d-a033-9da9b8df8816",
        "colab": {
          "base_uri": "https://localhost:8080/"
        }
      },
      "execution_count": 113,
      "outputs": [
        {
          "output_type": "execute_result",
          "data": {
            "text/plain": [
              "tensor(2., requires_grad=True)"
            ]
          },
          "metadata": {},
          "execution_count": 113
        }
      ]
    },
    {
      "cell_type": "code",
      "source": [
        "y = 9*x**4 + 2*x**3 + 3*x**2 + 6*x +1"
      ],
      "metadata": {
        "id": "fRXlfHL6Vy6i"
      },
      "execution_count": 114,
      "outputs": []
    },
    {
      "cell_type": "code",
      "source": [
        "y"
      ],
      "metadata": {
        "id": "lXlJslCtV-nS",
        "outputId": "f6f9fc1a-4b20-4222-ccd6-8cbf3138fe6c",
        "colab": {
          "base_uri": "https://localhost:8080/"
        }
      },
      "execution_count": 115,
      "outputs": [
        {
          "output_type": "execute_result",
          "data": {
            "text/plain": [
              "tensor(185., grad_fn=<AddBackward0>)"
            ]
          },
          "metadata": {},
          "execution_count": 115
        }
      ]
    },
    {
      "cell_type": "code",
      "source": [
        "y.backward()"
      ],
      "metadata": {
        "id": "u2VAtAnyV_eC"
      },
      "execution_count": 117,
      "outputs": []
    },
    {
      "cell_type": "code",
      "source": [
        "x.grad"
      ],
      "metadata": {
        "id": "fqYewouIWDYg",
        "outputId": "714905bf-ef5c-49b9-c7e5-92b43b623a2e",
        "colab": {
          "base_uri": "https://localhost:8080/"
        }
      },
      "execution_count": 118,
      "outputs": [
        {
          "output_type": "execute_result",
          "data": {
            "text/plain": [
              "tensor(330.)"
            ]
          },
          "metadata": {},
          "execution_count": 118
        }
      ]
    },
    {
      "cell_type": "code",
      "source": [
        "x = torch.tensor(2.0, requires_grad=True)\n",
        "x"
      ],
      "metadata": {
        "id": "OIKcPDWSWGOZ",
        "outputId": "f4a1e183-6806-495c-c21c-e31d9633d02a",
        "colab": {
          "base_uri": "https://localhost:8080/"
        }
      },
      "execution_count": 119,
      "outputs": [
        {
          "output_type": "execute_result",
          "data": {
            "text/plain": [
              "tensor(2., requires_grad=True)"
            ]
          },
          "metadata": {},
          "execution_count": 119
        }
      ]
    },
    {
      "cell_type": "code",
      "source": [
        "y = 3*x**2 + 3\n",
        "y"
      ],
      "metadata": {
        "id": "aOt2cAW9WRtn",
        "outputId": "d01f3525-f716-4f29-b582-2568b7ec577f",
        "colab": {
          "base_uri": "https://localhost:8080/"
        }
      },
      "execution_count": 120,
      "outputs": [
        {
          "output_type": "execute_result",
          "data": {
            "text/plain": [
              "tensor(15., grad_fn=<AddBackward0>)"
            ]
          },
          "metadata": {},
          "execution_count": 120
        }
      ]
    },
    {
      "cell_type": "code",
      "source": [
        "y.backward()"
      ],
      "metadata": {
        "id": "jcqoXe7OWXVL"
      },
      "execution_count": 121,
      "outputs": []
    },
    {
      "cell_type": "code",
      "source": [
        "x.grad  #   변화량..."
      ],
      "metadata": {
        "id": "jm5KwjMYWanV",
        "outputId": "c76790b6-20c4-40c3-c9f0-5642f7f99453",
        "colab": {
          "base_uri": "https://localhost:8080/"
        }
      },
      "execution_count": 123,
      "outputs": [
        {
          "output_type": "execute_result",
          "data": {
            "text/plain": [
              "tensor(12.)"
            ]
          },
          "metadata": {},
          "execution_count": 123
        }
      ]
    },
    {
      "cell_type": "code",
      "source": [
        ""
      ],
      "metadata": {
        "id": "aOLdVmEYWblQ"
      },
      "execution_count": null,
      "outputs": []
    }
  ],
  "metadata": {
    "kernelspec": {
      "display_name": "Python 3",
      "language": "python",
      "name": "python3"
    },
    "language_info": {
      "codemirror_mode": {
        "name": "ipython",
        "version": 3
      },
      "file_extension": ".py",
      "mimetype": "text/x-python",
      "name": "python",
      "nbconvert_exporter": "python",
      "pygments_lexer": "ipython3",
      "version": "3.8.8"
    },
    "colab": {
      "name": "autograd_tutorial.ipynb",
      "provenance": []
    }
  },
  "nbformat": 4,
  "nbformat_minor": 0
}